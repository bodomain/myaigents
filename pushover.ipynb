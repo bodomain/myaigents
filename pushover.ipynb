{
 "cells": [
  {
   "cell_type": "code",
   "execution_count": null,
   "id": "15e12bfe",
   "metadata": {},
   "outputs": [],
   "source": [
    "# Import standard and third-party libraries used throughout this notebook\n",
    "# - load_dotenv: loads environment variables from a .env file into os.environ\n",
    "# - requests: used to make HTTP POST requests to the Pushover API\n",
    "# - os: used to read environment variables once loaded\n",
    "# - json: used when serializing/deserializing arguments for tool calls\n",
    "from dotenv import load_dotenv  # load environment variables from a .env file\n",
    "import requests                # HTTP client for sending requests to Pushover\n",
    "import os                      # access environment variables\n",
    "import json                    # parse/produce JSON for tool argument handling\n"
   ]
  },
  {
   "cell_type": "code",
   "execution_count": null,
   "id": "3ac1f187",
   "metadata": {},
   "outputs": [],
   "source": [
    "# Load environment variables from a .env file located next to this notebook\n",
    "# Make sure to run this cell before using environment-dependent variables\n",
    "load_dotenv(override=True)\n",
    "\n",
    "# Retrieve Pushover credentials from the environment\n",
    "pushover_user = os.getenv(\"PUSHOVER_USER\")   # Pushover user key (recipient)\n",
    "pushover_token = os.getenv(\"PUSHOVER_TOKEN\") # Pushover application token (sender)\n",
    "\n",
    "# Pushover API endpoint for sending messages\n",
    "pushover_url = \"https://api.pushover.net/1/messages.json\"\n",
    "\n",
    "# Debug prints to verify values during development (remove in production)\n",
    "print(\"pushover_user:\", bool(pushover_user), \"pushover_token:\", bool(pushover_token))\n"
   ]
  },
  {
   "cell_type": "code",
   "execution_count": null,
   "id": "bfb5cc68",
   "metadata": {},
   "outputs": [],
   "source": [
    "# Define a helper function to send a message via Pushover\n",
    "# - Accepts a text message and posts it to the Pushover API using stored credentials\n",
    "# - Prints the message for local debugging and returns the response object for inspection\n",
    "\n",
    "def push(message: str):\n",
    "    # Show the message locally so you can confirm in notebook output\n",
    "    print(f\"Push: {message}\")\n",
    "\n",
    "    # Prepare the form-encoded payload the Pushover API expects\n",
    "    # Required keys: token (app token), user (recipient key), message (text)\n",
    "    payload = {\n",
    "        \"token\": pushover_token,\n",
    "        \"user\": pushover_user,\n",
    "        \"message\": message\n",
    "    }\n",
    "\n",
    "    # Send the POST request and return the Response for debugging\n",
    "    response = requests.post(pushover_url, data=payload)\n",
    "    print(\"Pushover response status:\", response.status_code)\n",
    "    try:\n",
    "        print(\"Pushover response body:\", response.json())\n",
    "    except Exception:\n",
    "        print(\"Pushover response text:\", response.text)\n",
    "    return response\n"
   ]
  },
  {
   "cell_type": "code",
   "execution_count": null,
   "id": "6cfeb0ec",
   "metadata": {},
   "outputs": [
    {
     "name": "stdout",
     "output_type": "stream",
     "text": [
      "Push: Hello android from arch - 2025-09-29 18:05:12\n"
     ]
    }
   ],
   "source": [
    "# Test sending a simple message with a timestamp to verify notifications work\n",
    "from datetime import datetime\n",
    "\n",
    "# Compose a human-readable message including the current timestamp\n",
    "message = f\"Hello android from arch - {datetime.now().strftime('%Y-%m-%d %H:%M:%S')}\"\n",
    "\n",
    "# Call the push helper to send the test notification\n",
    "push(message)\n"
   ]
  },
  {
   "cell_type": "code",
   "execution_count": null,
   "id": "f106d306",
   "metadata": {},
   "outputs": [],
   "source": [
    "# Helper function to record user interest details and notify via Pushover\n",
    "# - email: required email address string\n",
    "# - name: optional display name\n",
    "# - notes: optional additional notes\n",
    "# Returns a simple dict acknowledging the recording\n",
    "\n",
    "def record_user_details(email: str, name: str = \"Name not provided\", notes: str = \"not provided\"):\n",
    "    # Send a push notification summarizing the recorded data\n",
    "    push(f\"Recording interest from {name} with email {email} and notes {notes}\")\n",
    "    return {\"recorded\": \"ok\"}\n",
    "\n",
    "\n",
    "# Helper function to record unknown questions so they can be reviewed later\n",
    "# - question: the text of the user question that wasn't answered\n",
    "# Returns a simple dict acknowledging the recording\n",
    "\n",
    "def record_unknown_question(question: str):\n",
    "    push(f\"Recording {question} asked that I couldn't answer\")\n",
    "    return {\"recorded\": \"ok\"}\n"
   ]
  },
  {
   "cell_type": "code",
   "execution_count": null,
   "id": "9592a044",
   "metadata": {},
   "outputs": [],
   "source": [
    "# JSON Schema describing the 'record_user_details' function for external tooling\n",
    "# This can be consumed by automation frameworks or agent components to know\n",
    "# what parameters are required and their types.\n",
    "record_user_details_json = {\n",
    "    \"name\": \"record_user_details\",\n",
    "    \"description\": \"Use this tool to record that a user is interested in being in touch and provided an email address\",\n",
    "    \"parameters\": {\n",
    "        \"type\": \"object\",\n",
    "        \"properties\": {\n",
    "            \"email\": {\n",
    "                \"type\": \"string\",\n",
    "                \"description\": \"The email address of this user\"\n",
    "            },\n",
    "            \"name\": {\n",
    "                \"type\": \"string\",\n",
    "                \"description\": \"The user's name, if they provided it\"\n",
    "            },\n",
    "            \"notes\": {\n",
    "                \"type\": \"string\",\n",
    "                \"description\": \"Any additional information about the conversation that's worth recording to give context\"\n",
    "            }\n",
    "        },\n",
    "        \"required\": [\"email\"],\n",
    "        \"additionalProperties\": False\n",
    "    }\n",
    "}\n",
    "\n",
    "\n",
    "# JSON Schema describing the 'record_unknown_question' function for external tooling\n",
    "record_unknown_question_json = {\n",
    "    \"name\": \"record_unknown_question\",\n",
    "    \"description\": \"Always use this tool to record any question that couldn't be answered as you didn't know the answer\",\n",
    "    \"parameters\": {\n",
    "        \"type\": \"object\",\n",
    "        \"properties\": {\n",
    "            \"question\": {\n",
    "                \"type\": \"string\",\n",
    "                \"description\": \"The question that couldn't be answered\"\n",
    "            },\n",
    "        },\n",
    "        \"required\": [\"question\"],\n",
    "        \"additionalProperties\": False\n",
    "    }\n",
    "}\n"
   ]
  },
  {
   "cell_type": "code",
   "execution_count": null,
   "id": "1e0b46da",
   "metadata": {},
   "outputs": [],
   "source": [
    "# A list of tool descriptors that can be provided to an agent or automation system.\n",
    "# Each entry describes a function-type tool and includes the JSON schema defined above.\n",
    "tools = [\n",
    "    {\"type\": \"function\", \"function\": record_user_details_json},\n",
    "    {\"type\": \"function\", \"function\": record_unknown_question_json}\n",
    "]\n",
    "\n",
    "# This 'tools' list is often passed into an agent constructor so it knows what\n",
    "# tools are available and how to call them programmatically.\n"
   ]
  },
  {
   "cell_type": "code",
   "execution_count": null,
   "id": "1c57f22c",
   "metadata": {},
   "outputs": [],
   "source": [
    "# Function to handle incoming tool call objects and dispatch to the matching helper\n",
    "# This version shows an explicit if/elif dispatch for clarity and safety.\n",
    "# tool_calls is expected to be an iterable of objects with attributes:\n",
    "# - function.name: the name of the tool function to call\n",
    "# - function.arguments: a JSON string of the arguments to pass\n",
    "# - id: an identifier for the tool call\n",
    "\n",
    "def handle_tool_calls(tool_calls):\n",
    "    results = []\n",
    "    for tool_call in tool_calls:\n",
    "        # Extract the intended tool name and arguments from the tool_call object\n",
    "        tool_name = tool_call.function.name\n",
    "        arguments = json.loads(tool_call.function.arguments)\n",
    "        print(f\"Tool called: {tool_name}\", flush=True)\n",
    "\n",
    "        # Dispatch to the appropriate function using explicit checks\n",
    "        if tool_name == \"record_user_details\":\n",
    "            result = record_user_details(**arguments)\n",
    "        elif tool_name == \"record_unknown_question\":\n",
    "            result = record_unknown_question(**arguments)\n",
    "        else:\n",
    "            result = {\"error\": f\"unknown tool {tool_name}\"}\n",
    "\n",
    "        # Append the tool result in the expected format\n",
    "        results.append({\"role\": \"tool\", \"content\": json.dumps(result), \"tool_call_id\": tool_call.id})\n",
    "    return results\n",
    "\n",
    "\n",
    "# Example demonstrating direct invocation from the global namespace\n",
    "# Useful for quick tests: calls record_unknown_question with a sample question\n",
    "globals()[\"record_unknown_question\"](\"KeyError?\")\n",
    "\n",
    "\n",
    "# Alternative dynamic dispatch implementation (commented-out)\n",
    "# This approach uses globals().get(tool_name) to find and call the function\n",
    "# It is more dynamic but can be less explicit for code readers and static analyzers.\n",
    "#\n",
    "# def handle_tool_calls_dynamic(tool_calls):\n",
    "#     results = []\n",
    "#     for tool_call in tool_calls:\n",
    "#         tool_name = tool_call.function.name\n",
    "#         arguments = json.loads(tool_call.function.arguments)\n",
    "#         print(f\"Tool called: {tool_name}\", flush=True)\n",
    "#         tool = globals().get(tool_name)\n",
    "#         if tool:\n",
    "#             result = tool(**arguments)\n",
    "#         else:\n",
    "#             result = {\"error\": \"unknown tool\"}\n",
    "#         results.append({\"role\": \"tool\", \"content\": json.dumps(result), \"tool_call_id\": tool_call.id})\n",
    "#     return results\n"
   ]
  },
  {
   "cell_type": "code",
   "execution_count": 12,
   "id": "0349f49a",
   "metadata": {},
   "outputs": [
    {
     "name": "stdout",
     "output_type": "stream",
     "text": [
      "Push: Recording KeyError? asked that I couldn't answer\n"
     ]
    },
    {
     "data": {
      "text/plain": [
       "{'recorded': 'ok'}"
      ]
     },
     "execution_count": 12,
     "metadata": {},
     "output_type": "execute_result"
    }
   ],
   "source": [
    "# This calls the function 'record_unknown_question' from the global scope with the argument \"this is a really hard question\"\n",
    "globals()[\"record_unknown_question\"](\"KeyError?\")"
   ]
  },
  {
   "cell_type": "code",
   "execution_count": null,
   "id": "16bdfff8",
   "metadata": {},
   "outputs": [],
   "source": [
    "def handle_tool_calls(tool_calls):\n",
    "    results = []\n",
    "    for tool_call in tool_calls:\n",
    "        tool_name = tool_call.function.name\n",
    "        arguments = json.loads(tool_call.function.arguments)\n",
    "        print(f\"Tool called: {tool_name}\", flush=True)\n",
    "        tool = globals().get(tool_name)\n",
    "        result = tool(**arguments) if tool else {}\n",
    "        results.append({\"role\": \"tool\",\"content\": json.dumps(result),\"tool_call_id\": tool_call.id})\n",
    "    return result"
   ]
  }
 ],
 "metadata": {
  "kernelspec": {
   "display_name": "agents",
   "language": "python",
   "name": "python3"
  },
  "language_info": {
   "codemirror_mode": {
    "name": "ipython",
    "version": 3
   },
   "file_extension": ".py",
   "mimetype": "text/x-python",
   "name": "python",
   "nbconvert_exporter": "python",
   "pygments_lexer": "ipython3",
   "version": "3.12.11"
  }
 },
 "nbformat": 4,
 "nbformat_minor": 5
}
